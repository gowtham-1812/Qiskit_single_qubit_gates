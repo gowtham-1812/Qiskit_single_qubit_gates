{
 "cells": [
  {
   "cell_type": "code",
   "execution_count": null,
   "metadata": {
    "id": "Mx6284lurNt1"
   },
   "outputs": [],
   "source": [
    "!pip install qiskit qiskit-aer --upgrade"
   ]
  },
  {
   "cell_type": "code",
   "execution_count": 1,
   "metadata": {},
   "outputs": [],
   "source": [
    "from qiskit import QuantumCircuit, transpile\n",
    "from qiskit_aer import AerSimulator"
   ]
  },
  {
   "cell_type": "code",
   "execution_count": 2,
   "metadata": {
    "id": "VPOwLacGrCdU"
   },
   "outputs": [
    {
     "name": "stdout",
     "output_type": "stream",
     "text": [
      "Quantum Circuit:\n",
      "        ┌───┐┌───┐┌───┐┌───┐┌─────────┐ ░ ┌─┐\n",
      "     q: ┤ X ├┤ H ├┤ S ├┤ T ├┤ Rz(0.5) ├─░─┤M├\n",
      "        └───┘└───┘└───┘└───┘└─────────┘ ░ └╥┘\n",
      "   c: 1/═══════════════════════════════════╬═\n",
      "                                           ║ \n",
      "meas: 1/═══════════════════════════════════╩═\n",
      "                                           0 \n",
      "\n",
      "Measurement Counts: {'0 0': 493, '1 0': 531}\n"
     ]
    }
   ],
   "source": [
    "# Initialize simulator\n",
    "sim = AerSimulator()\n",
    "\n",
    "# Create a single-qubit circuit with one classical bit\n",
    "qc = QuantumCircuit(1, 1)\n",
    "\n",
    "# --- Apply sequence of single-qubit gates ---\n",
    "qc.x(0)        # Pauli-X (NOT gate)\n",
    "qc.h(0)        # Hadamard (superposition)\n",
    "qc.s(0)        # Phase gate (π/2)\n",
    "qc.t(0)        # T gate (π/4)\n",
    "qc.rz(0.5, 0)  # Z-axis rotation by 0.5 radians\n",
    "\n",
    "# Measure final state\n",
    "qc.measure_all()\n",
    "\n",
    "# Display circuit\n",
    "print(\"Quantum Circuit:\")\n",
    "print(qc.draw())\n",
    "\n",
    "# --- Run simulation ---\n",
    "compiled = transpile(qc, sim)\n",
    "result = sim.run(compiled, shots=1024).result()\n",
    "\n",
    "# --- Display results ---\n",
    "counts = result.get_counts()\n",
    "print(\"\\nMeasurement Counts:\", counts)"
   ]
  },
  {
   "cell_type": "code",
   "execution_count": 3,
   "metadata": {
    "id": "XXSzfpG9q7hc"
   },
   "outputs": [
    {
     "name": "stdout",
     "output_type": "stream",
     "text": [
      "Quantum Circuit:\n",
      "        ┌───┐┌───┐┌───┐┌───┐┌─────────┐ ░ ┌─┐\n",
      "     q: ┤ H ├┤ X ├┤ S ├┤ T ├┤ Rz(0.5) ├─░─┤M├\n",
      "        └───┘└───┘└───┘└───┘└─────────┘ ░ └╥┘\n",
      "   c: 1/═══════════════════════════════════╬═\n",
      "                                           ║ \n",
      "meas: 1/═══════════════════════════════════╩═\n",
      "                                           0 \n",
      "\n",
      "Measurement Counts: {'0 0': 546, '1 0': 478}\n"
     ]
    }
   ],
   "source": [
    "\"\"\"\n",
    "Task 1:\n",
    "Change Gate Order\n",
    "\n",
    "Swap the order of the X and H gates.\n",
    "Run the simulation and observe how the results change.\n",
    "Explain why gate order affects the final state.\n",
    "\"\"\"\n",
    "\n",
    "# Initialize simulator\n",
    "sim = AerSimulator()\n",
    "\n",
    "# Create a single-qubit circuit with one classical bit\n",
    "qc = QuantumCircuit(1, 1)\n",
    "\n",
    "# --- Apply sequence of single-qubit gates ---\n",
    "qc.h(0)        # Hadamard (superposition)\n",
    "qc.x(0)        # Pauli-X (NOT gate)\n",
    "qc.s(0)        # Phase gate (π/2)\n",
    "qc.t(0)        # T gate (π/4)\n",
    "qc.rz(0.5, 0)  # Z-axis rotation by 0.5 radians\n",
    "\n",
    "# Measure final state\n",
    "qc.measure_all()\n",
    "\n",
    "# Display circuit\n",
    "print(\"Quantum Circuit:\")\n",
    "print(qc.draw())\n",
    "\n",
    "# --- Run simulation ---\n",
    "compiled = transpile(qc, sim)\n",
    "result = sim.run(compiled, shots=1024).result()\n",
    "\n",
    "# --- Display results ---\n",
    "counts = result.get_counts()\n",
    "print(\"\\nMeasurement Counts:\", counts)"
   ]
  },
  {
   "cell_type": "markdown",
   "metadata": {},
   "source": [
    "- Gate order matters because quantum gates are not commutative. \n",
    "- Quantum gates are matrix multiplications, which are not commutative.\n",
    "- The phase gates (S, T, Rz) that follow just rotate these states, but they remain 50/50 superpositions."
   ]
  },
  {
   "cell_type": "code",
   "execution_count": null,
   "metadata": {},
   "outputs": [],
   "source": [
    "\"\"\"\n",
    "Task 2:\n",
    "Vary Rotation Angle\n",
    "\n",
    "Modify the rotation angle in qc.rz(θ, 0) to:\n",
    "θ = π/4\n",
    "θ = π/2\n",
    "θ = π\n",
    "Compare the measurement counts for each case.\n",
    "\"\"\""
   ]
  },
  {
   "cell_type": "code",
   "execution_count": 4,
   "metadata": {},
   "outputs": [],
   "source": [
    "import numpy as np"
   ]
  },
  {
   "cell_type": "code",
   "execution_count": 5,
   "metadata": {},
   "outputs": [
    {
     "name": "stdout",
     "output_type": "stream",
     "text": [
      "Quantum Circuit (with Rz(pi/4)):\n",
      "        ┌───┐┌───┐┌───┐┌───┐┌─────────┐ ░ ┌─┐\n",
      "     q: ┤ X ├┤ H ├┤ S ├┤ T ├┤ Rz(π/4) ├─░─┤M├\n",
      "        └───┘└───┘└───┘└───┘└─────────┘ ░ └╥┘\n",
      "   c: 1/═══════════════════════════════════╬═\n",
      "                                           ║ \n",
      "meas: 1/═══════════════════════════════════╩═\n",
      "                                           0 \n",
      "\n",
      "Measurement Counts: {'1 0': 509, '0 0': 515}\n"
     ]
    }
   ],
   "source": [
    "# θ = π/4\n",
    "\n",
    "sim = AerSimulator()\n",
    "\n",
    "qc = QuantumCircuit(1, 1)\n",
    "\n",
    "qc.x(0)\n",
    "qc.h(0)\n",
    "qc.s(0)\n",
    "qc.t(0)\n",
    "qc.rz(np.pi / 4, 0)\n",
    "\n",
    "qc.measure_all()\n",
    "\n",
    "print(\"Quantum Circuit (with Rz(pi/4)):\")\n",
    "print(qc.draw())\n",
    "\n",
    "compiled = transpile(qc, sim)\n",
    "result = sim.run(compiled, shots=1024).result()\n",
    "\n",
    "counts = result.get_counts()\n",
    "print(\"\\nMeasurement Counts:\", counts)"
   ]
  },
  {
   "cell_type": "code",
   "execution_count": 6,
   "metadata": {},
   "outputs": [
    {
     "name": "stdout",
     "output_type": "stream",
     "text": [
      "Quantum Circuit (with Rz(pi/2)):\n",
      "        ┌───┐┌───┐┌───┐┌───┐┌─────────┐ ░ ┌─┐\n",
      "     q: ┤ X ├┤ H ├┤ S ├┤ T ├┤ Rz(π/2) ├─░─┤M├\n",
      "        └───┘└───┘└───┘└───┘└─────────┘ ░ └╥┘\n",
      "   c: 1/═══════════════════════════════════╬═\n",
      "                                           ║ \n",
      "meas: 1/═══════════════════════════════════╩═\n",
      "                                           0 \n",
      "\n",
      "Measurement Counts: {'1 0': 519, '0 0': 505}\n"
     ]
    }
   ],
   "source": [
    "# θ = π/2\n",
    "\n",
    "sim = AerSimulator()\n",
    "\n",
    "qc = QuantumCircuit(1, 1)\n",
    "\n",
    "qc.x(0)\n",
    "qc.h(0)\n",
    "qc.s(0)\n",
    "qc.t(0)\n",
    "qc.rz(np.pi / 2, 0)\n",
    "\n",
    "qc.measure_all()\n",
    "\n",
    "print(\"Quantum Circuit (with Rz(pi/2)):\")\n",
    "print(qc.draw())\n",
    "\n",
    "compiled = transpile(qc, sim)\n",
    "result = sim.run(compiled, shots=1024).result()\n",
    "\n",
    "counts = result.get_counts()\n",
    "print(\"\\nMeasurement Counts:\", counts)"
   ]
  },
  {
   "cell_type": "code",
   "execution_count": 7,
   "metadata": {},
   "outputs": [
    {
     "name": "stdout",
     "output_type": "stream",
     "text": [
      "Quantum Circuit (with Rz(pi)):\n",
      "        ┌───┐┌───┐┌───┐┌───┐┌───────┐ ░ ┌─┐\n",
      "     q: ┤ X ├┤ H ├┤ S ├┤ T ├┤ Rz(π) ├─░─┤M├\n",
      "        └───┘└───┘└───┘└───┘└───────┘ ░ └╥┘\n",
      "   c: 1/═════════════════════════════════╬═\n",
      "                                         ║ \n",
      "meas: 1/═════════════════════════════════╩═\n",
      "                                         0 \n",
      "\n",
      "Measurement Counts: {'0 0': 529, '1 0': 495}\n"
     ]
    }
   ],
   "source": [
    "# θ = π\n",
    "\n",
    "sim = AerSimulator()\n",
    "\n",
    "qc = QuantumCircuit(1, 1)\n",
    "\n",
    "qc.x(0)\n",
    "qc.h(0)\n",
    "qc.s(0)\n",
    "qc.t(0)\n",
    "qc.rz(np.pi, 0)\n",
    "\n",
    "qc.measure_all()\n",
    "\n",
    "print(\"Quantum Circuit (with Rz(pi)):\")\n",
    "print(qc.draw())\n",
    "\n",
    "compiled = transpile(qc, sim)\n",
    "result = sim.run(compiled, shots=1024).result()\n",
    "\n",
    "counts = result.get_counts()\n",
    "print(\"\\nMeasurement Counts:\", counts)"
   ]
  },
  {
   "cell_type": "markdown",
   "metadata": {},
   "source": [
    "- Since we are only changing the total amount of phase rotation, the final probability remains 50/50.\n",
    "- So we get similar results (50/50 probability) for all 3 cases."
   ]
  },
  {
   "cell_type": "code",
   "execution_count": 8,
   "metadata": {},
   "outputs": [
    {
     "name": "stdout",
     "output_type": "stream",
     "text": [
      "Quantum Circuit:\n",
      "        ┌───┐┌───┐┌───┐┌─────────┐ ░ ┌─┐\n",
      "     q: ┤ X ├┤ S ├┤ T ├┤ Rz(0.5) ├─░─┤M├\n",
      "        └───┘└───┘└───┘└─────────┘ ░ └╥┘\n",
      "   c: 1/══════════════════════════════╬═\n",
      "                                      ║ \n",
      "meas: 1/══════════════════════════════╩═\n",
      "                                      0 \n",
      "\n",
      "Measurement Counts: {'1 0': 1024}\n"
     ]
    }
   ],
   "source": [
    "\"\"\"\n",
    "Task 3:\n",
    "Remove a Gate\n",
    "\n",
    "Remove the Hadamard gate (qc.h(0)) from the circuit.\n",
    "Rerun the program and note how the output probabilities differ.\n",
    "\"\"\"\n",
    "\n",
    "# Initialize simulator\n",
    "sim = AerSimulator()\n",
    "\n",
    "# Create a single-qubit circuit with one classical bit\n",
    "qc = QuantumCircuit(1, 1)\n",
    "\n",
    "# --- Apply sequence of single-qubit gates ---\n",
    "qc.x(0)        # Pauli-X (NOT gate)\n",
    "qc.s(0)        # Phase gate (π/2)\n",
    "qc.t(0)        # T gate (π/4)\n",
    "qc.rz(0.5, 0)  # Z-axis rotation by 0.5 radians\n",
    "\n",
    "# Measure final state\n",
    "qc.measure_all()\n",
    "\n",
    "# Display circuit\n",
    "print(\"Quantum Circuit:\")\n",
    "print(qc.draw())\n",
    "\n",
    "# --- Run simulation ---\n",
    "compiled = transpile(qc, sim)\n",
    "result = sim.run(compiled, shots=1024).result()\n",
    "\n",
    "# --- Display results ---\n",
    "counts = result.get_counts()\n",
    "print(\"\\nMeasurement Counts:\", counts)"
   ]
  },
  {
   "cell_type": "markdown",
   "metadata": {},
   "source": [
    "- The probabilities changed from 50/50 to 100% '1' because the gate responsible for creating superposition (H-gate) has been removed.\n",
    "\n",
    "- Without H gate, the circuit is no longer a quantum program in the probabilistic sense. It's just a classical \"NOT\" gate with extra, phase shifting gates, which has no effect without superposition."
   ]
  },
  {
   "cell_type": "code",
   "execution_count": null,
   "metadata": {},
   "outputs": [],
   "source": []
  }
 ],
 "metadata": {
  "colab": {
   "provenance": []
  },
  "kernelspec": {
   "display_name": "Python 3 (ipykernel)",
   "language": "python",
   "name": "python3"
  },
  "language_info": {
   "codemirror_mode": {
    "name": "ipython",
    "version": 3
   },
   "file_extension": ".py",
   "mimetype": "text/x-python",
   "name": "python",
   "nbconvert_exporter": "python",
   "pygments_lexer": "ipython3",
   "version": "3.13.3"
  }
 },
 "nbformat": 4,
 "nbformat_minor": 4
}
